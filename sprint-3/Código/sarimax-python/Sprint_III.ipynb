{
  "nbformat": 4,
  "nbformat_minor": 0,
  "metadata": {
    "colab": {
      "name": "Sprint_III.ipynb",
      "provenance": [],
      "collapsed_sections": []
    },
    "kernelspec": {
      "name": "python3",
      "display_name": "Python 3"
    },
    "language_info": {
      "name": "python"
    }
  },
  "cells": [
    {
      "cell_type": "code",
      "source": [
        "!pip install pandasql\n",
        "!pip install pmdarima"
      ],
      "metadata": {
        "colab": {
          "base_uri": "https://localhost:8080/"
        },
        "id": "xwQVkUEPwdu7",
        "outputId": "ee7a42c8-1e1d-4a1c-8d51-ac9c5d37a63a"
      },
      "execution_count": 1,
      "outputs": [
        {
          "output_type": "stream",
          "name": "stdout",
          "text": [
            "Looking in indexes: https://pypi.org/simple, https://us-python.pkg.dev/colab-wheels/public/simple/\n",
            "Collecting pandasql\n",
            "  Downloading pandasql-0.7.3.tar.gz (26 kB)\n",
            "Requirement already satisfied: numpy in /usr/local/lib/python3.7/dist-packages (from pandasql) (1.21.6)\n",
            "Requirement already satisfied: pandas in /usr/local/lib/python3.7/dist-packages (from pandasql) (1.3.5)\n",
            "Requirement already satisfied: sqlalchemy in /usr/local/lib/python3.7/dist-packages (from pandasql) (1.4.39)\n",
            "Requirement already satisfied: python-dateutil>=2.7.3 in /usr/local/lib/python3.7/dist-packages (from pandas->pandasql) (2.8.2)\n",
            "Requirement already satisfied: pytz>=2017.3 in /usr/local/lib/python3.7/dist-packages (from pandas->pandasql) (2022.1)\n",
            "Requirement already satisfied: six>=1.5 in /usr/local/lib/python3.7/dist-packages (from python-dateutil>=2.7.3->pandas->pandasql) (1.15.0)\n",
            "Requirement already satisfied: importlib-metadata in /usr/local/lib/python3.7/dist-packages (from sqlalchemy->pandasql) (4.12.0)\n",
            "Requirement already satisfied: greenlet!=0.4.17 in /usr/local/lib/python3.7/dist-packages (from sqlalchemy->pandasql) (1.1.2)\n",
            "Requirement already satisfied: zipp>=0.5 in /usr/local/lib/python3.7/dist-packages (from importlib-metadata->sqlalchemy->pandasql) (3.8.1)\n",
            "Requirement already satisfied: typing-extensions>=3.6.4 in /usr/local/lib/python3.7/dist-packages (from importlib-metadata->sqlalchemy->pandasql) (4.1.1)\n",
            "Building wheels for collected packages: pandasql\n",
            "  Building wheel for pandasql (setup.py) ... \u001b[?25l\u001b[?25hdone\n",
            "  Created wheel for pandasql: filename=pandasql-0.7.3-py3-none-any.whl size=26784 sha256=0f3cbdcb3a003e14a91a8866b132ca4ed03d6267432a3e89cfce799071b8b1e0\n",
            "  Stored in directory: /root/.cache/pip/wheels/5c/4b/ec/41f4e116c8053c3654e2c2a47c62b4fca34cc67ef7b55deb7f\n",
            "Successfully built pandasql\n",
            "Installing collected packages: pandasql\n",
            "Successfully installed pandasql-0.7.3\n",
            "Looking in indexes: https://pypi.org/simple, https://us-python.pkg.dev/colab-wheels/public/simple/\n",
            "Collecting pmdarima\n",
            "  Downloading pmdarima-1.8.5-cp37-cp37m-manylinux_2_17_x86_64.manylinux2014_x86_64.manylinux_2_24_x86_64.whl (1.4 MB)\n",
            "\u001b[K     |████████████████████████████████| 1.4 MB 6.9 MB/s \n",
            "\u001b[?25hRequirement already satisfied: urllib3 in /usr/local/lib/python3.7/dist-packages (from pmdarima) (1.24.3)\n",
            "Collecting statsmodels!=0.12.0,>=0.11\n",
            "  Downloading statsmodels-0.13.2-cp37-cp37m-manylinux_2_17_x86_64.manylinux2014_x86_64.whl (9.8 MB)\n",
            "\u001b[K     |████████████████████████████████| 9.8 MB 40.3 MB/s \n",
            "\u001b[?25hRequirement already satisfied: joblib>=0.11 in /usr/local/lib/python3.7/dist-packages (from pmdarima) (1.1.0)\n",
            "Requirement already satisfied: pandas>=0.19 in /usr/local/lib/python3.7/dist-packages (from pmdarima) (1.3.5)\n",
            "Requirement already satisfied: Cython!=0.29.18,>=0.29 in /usr/local/lib/python3.7/dist-packages (from pmdarima) (0.29.32)\n",
            "Requirement already satisfied: scipy>=1.3.2 in /usr/local/lib/python3.7/dist-packages (from pmdarima) (1.7.3)\n",
            "Requirement already satisfied: setuptools!=50.0.0,>=38.6.0 in /usr/local/lib/python3.7/dist-packages (from pmdarima) (57.4.0)\n",
            "Requirement already satisfied: scikit-learn>=0.22 in /usr/local/lib/python3.7/dist-packages (from pmdarima) (1.0.2)\n",
            "Requirement already satisfied: numpy>=1.19.3 in /usr/local/lib/python3.7/dist-packages (from pmdarima) (1.21.6)\n",
            "Requirement already satisfied: pytz>=2017.3 in /usr/local/lib/python3.7/dist-packages (from pandas>=0.19->pmdarima) (2022.1)\n",
            "Requirement already satisfied: python-dateutil>=2.7.3 in /usr/local/lib/python3.7/dist-packages (from pandas>=0.19->pmdarima) (2.8.2)\n",
            "Requirement already satisfied: six>=1.5 in /usr/local/lib/python3.7/dist-packages (from python-dateutil>=2.7.3->pandas>=0.19->pmdarima) (1.15.0)\n",
            "Requirement already satisfied: threadpoolctl>=2.0.0 in /usr/local/lib/python3.7/dist-packages (from scikit-learn>=0.22->pmdarima) (3.1.0)\n",
            "Requirement already satisfied: patsy>=0.5.2 in /usr/local/lib/python3.7/dist-packages (from statsmodels!=0.12.0,>=0.11->pmdarima) (0.5.2)\n",
            "Requirement already satisfied: packaging>=21.3 in /usr/local/lib/python3.7/dist-packages (from statsmodels!=0.12.0,>=0.11->pmdarima) (21.3)\n",
            "Requirement already satisfied: pyparsing!=3.0.5,>=2.0.2 in /usr/local/lib/python3.7/dist-packages (from packaging>=21.3->statsmodels!=0.12.0,>=0.11->pmdarima) (3.0.9)\n",
            "Installing collected packages: statsmodels, pmdarima\n",
            "  Attempting uninstall: statsmodels\n",
            "    Found existing installation: statsmodels 0.10.2\n",
            "    Uninstalling statsmodels-0.10.2:\n",
            "      Successfully uninstalled statsmodels-0.10.2\n",
            "Successfully installed pmdarima-1.8.5 statsmodels-0.13.2\n"
          ]
        }
      ]
    },
    {
      "cell_type": "markdown",
      "source": [
        "Importanto bibliotecas, realizando leitura do arquivo .csv e confirmando se de fato existem valores diferentes na coluna 'count'."
      ],
      "metadata": {
        "id": "Vwwq4Sh1D5Iw"
      }
    },
    {
      "cell_type": "code",
      "execution_count": 2,
      "metadata": {
        "id": "hL53XETElqHQ"
      },
      "outputs": [],
      "source": [
        "import pandas as pd\n",
        "import numpy as np\n",
        "from pandas import DataFrame, Series\n",
        "#!pip install pandasql\n",
        "import pandasql\n",
        "from sklearn.model_selection import train_test_split\n",
        "# from statsmodels.tsa.statespace.sarimax import SARIMAX\n",
        "import statsmodels.api as sm\n",
        "import matplotlib.pyplot as plt\n",
        "import statsmodels.api as sm\n",
        "from pmdarima import auto_arima\n",
        "\n",
        "df = pd.read_csv('resultado-busca-phoenix.csv')\n",
        "\n",
        "df['_id'] = pd.to_datetime(df['_id'])\n",
        "\n",
        "\n",
        "# separa os dados em conjunto de treino e teste\n",
        "treinamento, teste = train_test_split(df['count'], test_size=.30, shuffle=False)"
      ]
    },
    {
      "cell_type": "code",
      "source": [
        "# depois que vários modelos são criados, o melhor é selecionado\n",
        "# execute esta parte do código separadamente, pois ela leva mais tempo\n",
        "auto_arima_model = auto_arima(treinamento, d=1, D=1, seasonal=True, trace=True, stepwise=False, max_p=8, max_q=8, max_d=8, max_P=8, max_Q=8, max_D=8, start_p=0, start_q=0, start_d=0, start_P=0, start_Q=0, start_D=0)\n",
        "print(auto_arima_model)"
      ],
      "metadata": {
        "colab": {
          "base_uri": "https://localhost:8080/"
        },
        "id": "r3NFhdhmf8ir",
        "outputId": "ed0cefed-5ee5-4d6e-8d63-f6ced148afe9"
      },
      "execution_count": 3,
      "outputs": [
        {
          "output_type": "stream",
          "name": "stdout",
          "text": [
            " ARIMA(0,1,0)(0,0,0)[1] intercept   : AIC=568.957, Time=0.15 sec\n",
            " ARIMA(0,1,1)(0,0,0)[1] intercept   : AIC=inf, Time=0.94 sec\n",
            " ARIMA(0,1,2)(0,0,0)[1] intercept   : AIC=inf, Time=1.23 sec\n",
            " ARIMA(0,1,3)(0,0,0)[1] intercept   : AIC=inf, Time=1.36 sec\n",
            " ARIMA(0,1,4)(0,0,0)[1] intercept   : AIC=inf, Time=2.22 sec\n",
            " ARIMA(0,1,5)(0,0,0)[1] intercept   : AIC=394.822, Time=1.49 sec\n",
            " ARIMA(1,1,0)(0,0,0)[1] intercept   : AIC=502.054, Time=0.10 sec\n",
            " ARIMA(1,1,1)(0,0,0)[1] intercept   : AIC=inf, Time=1.35 sec\n",
            " ARIMA(1,1,2)(0,0,0)[1] intercept   : AIC=inf, Time=1.21 sec\n",
            " ARIMA(1,1,3)(0,0,0)[1] intercept   : AIC=inf, Time=1.55 sec\n",
            " ARIMA(1,1,4)(0,0,0)[1] intercept   : AIC=inf, Time=2.25 sec\n",
            " ARIMA(2,1,0)(0,0,0)[1] intercept   : AIC=469.117, Time=0.32 sec\n",
            " ARIMA(2,1,1)(0,0,0)[1] intercept   : AIC=inf, Time=2.14 sec\n",
            " ARIMA(2,1,2)(0,0,0)[1] intercept   : AIC=inf, Time=2.76 sec\n",
            " ARIMA(2,1,3)(0,0,0)[1] intercept   : AIC=inf, Time=2.84 sec\n",
            " ARIMA(3,1,0)(0,0,0)[1] intercept   : AIC=454.238, Time=0.32 sec\n",
            " ARIMA(3,1,1)(0,0,0)[1] intercept   : AIC=inf, Time=1.92 sec\n",
            " ARIMA(3,1,2)(0,0,0)[1] intercept   : AIC=inf, Time=2.56 sec\n",
            " ARIMA(4,1,0)(0,0,0)[1] intercept   : AIC=446.411, Time=0.39 sec\n",
            " ARIMA(4,1,1)(0,0,0)[1] intercept   : AIC=inf, Time=2.02 sec\n",
            " ARIMA(5,1,0)(0,0,0)[1] intercept   : AIC=439.805, Time=0.54 sec\n",
            "\n",
            "Best model:  ARIMA(0,1,5)(0,0,0)[1] intercept\n",
            "Total fit time: 29.734 seconds\n",
            " ARIMA(0,1,5)(0,0,0)[1] intercept\n"
          ]
        }
      ]
    },
    {
      "cell_type": "code",
      "source": [
        "# o modelo superior é então aplicado ao sarimax\n",
        "modelo_superior = sm.tsa.SARIMAX(treinamento, order=auto_arima_model.order).fit()\n",
        "\n",
        "# qualidade do modelo ajustado com AIC:\n",
        "print(\"Qualidade AIC: \", modelo_superior.aic)\n",
        "\n",
        "# forecast\n",
        "\n",
        "forecast = modelo_superior.forecast(steps=len(teste))\n",
        "print('Forecast: \\n', forecast)\n",
        "\n",
        "teste.plot(label = 'teste')\n",
        "forecast.plot(label = 'forecast')\n",
        "\n",
        "plt.legend()\n",
        "plt.show()\n"
      ],
      "metadata": {
        "colab": {
          "base_uri": "https://localhost:8080/",
          "height": 508
        },
        "id": "D3kzdza4JDnE",
        "outputId": "8eed6404-dbb8-419b-f8b9-3200a9090c6b"
      },
      "execution_count": 10,
      "outputs": [
        {
          "output_type": "stream",
          "name": "stdout",
          "text": [
            "Qualidade AIC:  391.81587521111993\n",
            "Forecast: \n",
            " 312    1.089494\n",
            "313    1.097377\n",
            "314    1.096334\n",
            "315    1.096842\n",
            "316    1.096125\n",
            "         ...   \n",
            "441    1.096125\n",
            "442    1.096125\n",
            "443    1.096125\n",
            "444    1.096125\n",
            "445    1.096125\n",
            "Name: predicted_mean, Length: 134, dtype: float64\n"
          ]
        },
        {
          "output_type": "display_data",
          "data": {
            "text/plain": [
              "<Figure size 432x288 with 1 Axes>"
            ],
            "image/png": "[encoded data removed]"
          },
          "metadata": {
            "needs_background": "light"
          }
        }
      ]
    },
    {
      "cell_type": "code",
      "source": [
        "from sklearn.metrics import mean_absolute_error as mae\n",
        "\n",
        "# Calculando 'mean_absolute_error' com sklearn\n",
        "print('Erro médio absoluto: ', mae(teste, forecast))\n",
        "\n",
        "# Printando desvio padrão\n",
        "print('Desvio padrão: ', np.std(forecast))"
      ],
      "metadata": {
        "colab": {
          "base_uri": "https://localhost:8080/"
        },
        "id": "OXJ5EgUBUiPv",
        "outputId": "47f9cf5a-6c5b-4c8e-f19a-21502aa13567"
      },
      "execution_count": 6,
      "outputs": [
        {
          "output_type": "stream",
          "name": "stdout",
          "text": [
            "Erro médio absoluto:  0.2028527344363802\n",
            "Desvio padrão:  0.0005855728417645056\n"
          ]
        }
      ]
    }
  ]
}